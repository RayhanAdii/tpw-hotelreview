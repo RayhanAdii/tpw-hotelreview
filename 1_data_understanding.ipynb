{
 "cells": [
  {
   "cell_type": "code",
   "execution_count": 1,
   "id": "e7419262-c416-4907-94a6-a67ae1904efe",
   "metadata": {},
   "outputs": [],
   "source": [
    "import pandas as pd\n",
    "from matplotlib import pyplot as plt"
   ]
  },
  {
   "cell_type": "code",
   "execution_count": 3,
   "id": "e803d892-4c83-45ec-bcdc-5aea2d1afb89",
   "metadata": {},
   "outputs": [],
   "source": [
    "df_train = pd.read_csv('./dataset/train.csv')\n",
    "df_test = pd.read_csv('./dataset/test.csv')"
   ]
  },
  {
   "cell_type": "code",
   "execution_count": 4,
   "id": "8ed1e47f-db1d-41ed-b6b0-a72a24e3be4c",
   "metadata": {},
   "outputs": [
    {
     "data": {
      "text/html": [
       "<div>\n",
       "<style scoped>\n",
       "    .dataframe tbody tr th:only-of-type {\n",
       "        vertical-align: middle;\n",
       "    }\n",
       "\n",
       "    .dataframe tbody tr th {\n",
       "        vertical-align: top;\n",
       "    }\n",
       "\n",
       "    .dataframe thead th {\n",
       "        text-align: right;\n",
       "    }\n",
       "</style>\n",
       "<table border=\"1\" class=\"dataframe\">\n",
       "  <thead>\n",
       "    <tr style=\"text-align: right;\">\n",
       "      <th></th>\n",
       "      <th>hotel_name</th>\n",
       "      <th>hotel_location</th>\n",
       "      <th>review_id</th>\n",
       "      <th>review_date</th>\n",
       "      <th>review_text</th>\n",
       "      <th>review_language</th>\n",
       "      <th>review_rating</th>\n",
       "    </tr>\n",
       "  </thead>\n",
       "  <tbody>\n",
       "    <tr>\n",
       "      <th>0</th>\n",
       "      <td>Cobblestone Inn Suites-eads</td>\n",
       "      <td>Eads US</td>\n",
       "      <td>3mcTZLLqVE5ztNyE</td>\n",
       "      <td>28-11-2015</td>\n",
       "      <td>This is a new hotel. Great staff. Loved intera...</td>\n",
       "      <td>en</td>\n",
       "      <td>8.0</td>\n",
       "    </tr>\n",
       "    <tr>\n",
       "      <th>1</th>\n",
       "      <td>DoubleTree by Hilton London Islington</td>\n",
       "      <td>London 9LA United Kingdom</td>\n",
       "      <td>7HCg4Hk7ZbpQY60X</td>\n",
       "      <td>29-12-2015</td>\n",
       "      <td>Lovely attentive and welcoming staff Clean an...</td>\n",
       "      <td>en</td>\n",
       "      <td>10.0</td>\n",
       "    </tr>\n",
       "    <tr>\n",
       "      <th>2</th>\n",
       "      <td>citizenM Tower of London</td>\n",
       "      <td>London United Kingdom</td>\n",
       "      <td>yABlhfdJX4UlnNqA</td>\n",
       "      <td>08-09-2016</td>\n",
       "      <td>Cozy space to chill \\n Not much variety of fo...</td>\n",
       "      <td>en</td>\n",
       "      <td>7.1</td>\n",
       "    </tr>\n",
       "    <tr>\n",
       "      <th>3</th>\n",
       "      <td>The Savoy</td>\n",
       "      <td>London United Kingdom</td>\n",
       "      <td>hS252WXcgeRVdch6</td>\n",
       "      <td>15-10-2011</td>\n",
       "      <td>The hotel has certainly benefited from the inv...</td>\n",
       "      <td>en</td>\n",
       "      <td>10.0</td>\n",
       "    </tr>\n",
       "    <tr>\n",
       "      <th>4</th>\n",
       "      <td>Millennium Gloucester Hotel London</td>\n",
       "      <td>NaN</td>\n",
       "      <td>Fo44un6pn2M7XoVJ</td>\n",
       "      <td>23-10-2015</td>\n",
       "      <td>Excellent location for the Albert Hall and pl...</td>\n",
       "      <td>en</td>\n",
       "      <td>10.0</td>\n",
       "    </tr>\n",
       "  </tbody>\n",
       "</table>\n",
       "</div>"
      ],
      "text/plain": [
       "                              hotel_name             hotel_location  \\\n",
       "0            Cobblestone Inn Suites-eads                    Eads US   \n",
       "1  DoubleTree by Hilton London Islington  London 9LA United Kingdom   \n",
       "2               citizenM Tower of London      London United Kingdom   \n",
       "3                              The Savoy      London United Kingdom   \n",
       "4     Millennium Gloucester Hotel London                        NaN   \n",
       "\n",
       "          review_id review_date  \\\n",
       "0  3mcTZLLqVE5ztNyE  28-11-2015   \n",
       "1  7HCg4Hk7ZbpQY60X  29-12-2015   \n",
       "2  yABlhfdJX4UlnNqA  08-09-2016   \n",
       "3  hS252WXcgeRVdch6  15-10-2011   \n",
       "4  Fo44un6pn2M7XoVJ  23-10-2015   \n",
       "\n",
       "                                         review_text review_language  \\\n",
       "0  This is a new hotel. Great staff. Loved intera...              en   \n",
       "1   Lovely attentive and welcoming staff Clean an...              en   \n",
       "2   Cozy space to chill \\n Not much variety of fo...              en   \n",
       "3  The hotel has certainly benefited from the inv...              en   \n",
       "4   Excellent location for the Albert Hall and pl...              en   \n",
       "\n",
       "   review_rating  \n",
       "0            8.0  \n",
       "1           10.0  \n",
       "2            7.1  \n",
       "3           10.0  \n",
       "4           10.0  "
      ]
     },
     "execution_count": 4,
     "metadata": {},
     "output_type": "execute_result"
    }
   ],
   "source": [
    "df_train.head()"
   ]
  },
  {
   "cell_type": "code",
   "execution_count": null,
   "id": "88a17e4e-1785-4fdd-b219-a4efd9a55946",
   "metadata": {},
   "outputs": [],
   "source": []
  }
 ],
 "metadata": {
  "kernelspec": {
   "display_name": "Python 3 (ipykernel)",
   "language": "python",
   "name": "python3"
  },
  "language_info": {
   "codemirror_mode": {
    "name": "ipython",
    "version": 3
   },
   "file_extension": ".py",
   "mimetype": "text/x-python",
   "name": "python",
   "nbconvert_exporter": "python",
   "pygments_lexer": "ipython3",
   "version": "3.10.12"
  }
 },
 "nbformat": 4,
 "nbformat_minor": 5
}
